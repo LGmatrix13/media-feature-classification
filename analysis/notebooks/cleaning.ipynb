{
 "cells": [
  {
   "cell_type": "markdown",
   "metadata": {},
   "source": [
    "### Cleaning"
   ]
  },
  {
   "cell_type": "markdown",
   "metadata": {},
   "source": [
    "#### Cleaning Music\n"
   ]
  },
  {
   "cell_type": "code",
   "execution_count": 1,
   "metadata": {},
   "outputs": [],
   "source": [
    "# imports\n",
    "import pandas as pd \n",
    "import re"
   ]
  },
  {
   "cell_type": "code",
   "execution_count": 6,
   "metadata": {},
   "outputs": [],
   "source": [
    "# clean features and drop languages not in english\n",
    "for i in range(0, 6, 1):\n",
    "    music = pd.read_csv(f\"../../data/music_{i}.csv\")\n",
    "    music['features'] = music['features'].apply(lambda row: row.replace(\"{\", '').replace(\"}\", '').split(\",\"))\n",
    "   \n",
    "    def clean_lyrics(lyrics: str) -> str: \n",
    "        lyrics = re.sub('\\n', ' ', lyrics)\n",
    "        lyrics = re.sub(r\"\\[.*?\\]\", \"\", lyrics).strip()\n",
    "        return lyrics\n",
    "    \n",
    "    music['lyrics'] = music['lyrics'].apply(clean_lyrics)\n",
    "    music = music[music['language'] == 'en']\n",
    "    music.to_csv(f\"../../data/music_{i}.csv\")\n"
   ]
  },
  {
   "cell_type": "code",
   "execution_count": null,
   "metadata": {},
   "outputs": [],
   "source": []
  }
 ],
 "metadata": {
  "kernelspec": {
   "display_name": "Python 3",
   "language": "python",
   "name": "python3"
  },
  "language_info": {
   "codemirror_mode": {
    "name": "ipython",
    "version": 3
   },
   "file_extension": ".py",
   "mimetype": "text/x-python",
   "name": "python",
   "nbconvert_exporter": "python",
   "pygments_lexer": "ipython3",
   "version": "3.11.2"
  }
 },
 "nbformat": 4,
 "nbformat_minor": 2
}
