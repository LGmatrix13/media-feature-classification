{
 "cells": [
  {
   "cell_type": "markdown",
   "metadata": {},
   "source": [
    "### Exploration"
   ]
  },
  {
   "cell_type": "code",
   "execution_count": 5,
   "metadata": {},
   "outputs": [
    {
     "name": "stdout",
     "output_type": "stream",
     "text": [
      "{'rap': 129025, 'rb': 2458, 'rock': 18344, 'pop': 5105, 'misc': 41788, 'country': 3280}\n"
     ]
    }
   ],
   "source": [
    "import pandas as pd\n",
    "chunksize = 100000  # Adjust based on your system's memory\n",
    "freq_tag = {}\n",
    "freq_artist = {}\n",
    "with pd.read_csv(\"../../data/music.csv\", chunksize=chunksize) as reader:\n",
    "    chunks = 2\n",
    "    for chunk in reader:\n",
    "        if chunks == 0: break\n",
    "        for _, row in chunk.iterrows():\n",
    "            tag = row['tag']\n",
    "            if freq_tag.get(tag) is not None:\n",
    "                freq_tag[tag] += 1\n",
    "            else:\n",
    "                freq_tag[tag] = 1\n",
    "            artist = row['artist']\n",
    "            \n",
    "        chunks -= 1\n",
    "    \n",
    "print(freq_tag)\n",
    "\n",
    "# mean for views, year\n",
    "# mean for views, year\n",
    "\n",
    "# variables\n",
    "# artist - nomial\n",
    "# tag - nomial\n",
    "# title - text\n",
    "# views - radio scaled / numeric\n",
    "# interval scaled - numerics\n",
    "# language - nomial\n",
    "\n",
    "# frequencies for genre, artist/producer\n",
    "# average and medium for year, views\n"
   ]
  },
  {
   "cell_type": "code",
   "execution_count": null,
   "metadata": {},
   "outputs": [],
   "source": []
  }
 ],
 "metadata": {
  "kernelspec": {
   "display_name": "Python 3",
   "language": "python",
   "name": "python3"
  },
  "language_info": {
   "codemirror_mode": {
    "name": "ipython",
    "version": 3
   },
   "file_extension": ".py",
   "mimetype": "text/x-python",
   "name": "python",
   "nbconvert_exporter": "python",
   "pygments_lexer": "ipython3",
   "version": "3.11.2"
  }
 },
 "nbformat": 4,
 "nbformat_minor": 2
}
