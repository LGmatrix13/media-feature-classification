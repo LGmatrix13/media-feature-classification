{
 "cells": [
  {
   "cell_type": "code",
   "execution_count": 7,
   "metadata": {},
   "outputs": [
    {
     "name": "stdout",
     "output_type": "stream",
     "text": [
      "column: id with type int64\n",
      "min: 1\n",
      "min: 7882848\n",
      "median: 3556101.0\n",
      "number missing: 0\n",
      "proportion missing: 0.0\n",
      "\n",
      "column: title with type object\n",
      "number missing: 128\n",
      "proportion missing: 3.764713633233951e-05\n",
      "\n",
      "column: tag with type object\n",
      "number missing: 0\n",
      "proportion missing: 0.0\n",
      "\n",
      "column: artist with type object\n",
      "number missing: 0\n",
      "proportion missing: 0.0\n",
      "\n",
      "column: year with type int64\n",
      "min: 1\n",
      "min: 2100\n",
      "median: 2015.0\n",
      "number missing: 0\n",
      "proportion missing: 0.0\n",
      "\n",
      "column: views with type int64\n",
      "min: 0\n",
      "min: 17575634\n",
      "median: 89.0\n",
      "number missing: 0\n",
      "proportion missing: 0.0\n",
      "\n",
      "column: features with type object\n",
      "number missing: 0\n",
      "proportion missing: 0.0\n",
      "\n"
     ]
    }
   ],
   "source": [
    "import pandas as pd\n",
    "from pandas.api.types import is_numeric_dtype\n",
    "\n",
    "df = pd.read_parquet('../data/raw/music_metadata.parquet')\n",
    "\n",
    "for column in df.columns:\n",
    "    print(f\"column: {column} with type {df[column].dtype}\")\n",
    "    if is_numeric_dtype(df[column]):\n",
    "        print(f\"min: {df[column].min()}\")\n",
    "        print(f\"min: {df[column].max()}\")\n",
    "        print(f\"median: {df[column].median()}\")\n",
    "    \n",
    "    total_missing = df[column].isnull().sum().sum()\n",
    "    print(f\"number missing: {total_missing}\")\n",
    "    print(f\"proportion missing: {total_missing / len(df[column])}\")\n",
    "    print()\n"
   ]
  },
  {
   "cell_type": "code",
   "execution_count": 4,
   "metadata": {},
   "outputs": [
    {
     "data": {
      "text/plain": [
       "Index(['id', 'title', 'tag', 'artist', 'year', 'views', 'features'], dtype='object')"
      ]
     },
     "execution_count": 4,
     "metadata": {},
     "output_type": "execute_result"
    }
   ],
   "source": [
    "df = pd.read_parquet(\"../data/raw/music_metadata.parquet\")\n",
    "df.columns"
   ]
  }
 ],
 "metadata": {
  "kernelspec": {
   "display_name": "Python 3",
   "language": "python",
   "name": "python3"
  },
  "language_info": {
   "codemirror_mode": {
    "name": "ipython",
    "version": 3
   },
   "file_extension": ".py",
   "mimetype": "text/x-python",
   "name": "python",
   "nbconvert_exporter": "python",
   "pygments_lexer": "ipython3",
   "version": "3.11.2"
  }
 },
 "nbformat": 4,
 "nbformat_minor": 2
}
