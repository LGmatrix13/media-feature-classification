{
 "cells": [
  {
   "cell_type": "code",
   "execution_count": null,
   "metadata": {},
   "outputs": [],
   "source": [
    "import pandas as pd\n",
    "\n",
    "vectors = pd.read_parquet('../data/vectors/music_lyrics_vectors.parquet')"
   ]
  },
  {
   "cell_type": "code",
   "execution_count": null,
   "metadata": {},
   "outputs": [],
   "source": [
    "metadata = pd.read_parquet('../data/transformed/music_metadata.parquet')"
   ]
  },
  {
   "cell_type": "code",
   "execution_count": null,
   "metadata": {},
   "outputs": [],
   "source": [
    "vectors.columns = ['id', 'vector']\n",
    "vectors = vectors.merge(metadata, on=\"id\")\n",
    "del metadata"
   ]
  },
  {
   "cell_type": "code",
   "execution_count": null,
   "metadata": {},
   "outputs": [],
   "source": [
    "vectors = vectors[['id', 'vector', 'title', 'artist']]"
   ]
  },
  {
   "cell_type": "code",
   "execution_count": null,
   "metadata": {},
   "outputs": [],
   "source": [
    "from sklearn.cluster import KMeans, DBSCAN"
   ]
  },
  {
   "cell_type": "code",
   "execution_count": null,
   "metadata": {},
   "outputs": [],
   "source": [
    "from matplotlib import pyplot as plt\n",
    "from sklearn.metrics import silhouette_score\n",
    "\n",
    "\n",
    "def optimal_clusters_silhouette(data: pd.Series, max_clusters=10):\n",
    "    scores = []\n",
    "    cluster_range = range(2, max_clusters + 1)\n",
    "\n",
    "    for k in cluster_range:\n",
    "        kmeans = KMeans(n_clusters=k, random_state=42)\n",
    "        labels = kmeans.fit_predict(data)\n",
    "        score = silhouette_score(data, labels)\n",
    "        scores.append(score)\n",
    "\n",
    "    plt.figure(figsize=(8, 5))\n",
    "    plt.plot(cluster_range, scores, marker='o')\n",
    "    plt.xlabel(\"Number of Clusters\")\n",
    "    plt.ylabel(\"Silhouette Score\")\n",
    "    plt.title(\"Silhouette Score for Optimal Clusters\")\n",
    "    plt.show()\n"
   ]
  },
  {
   "cell_type": "code",
   "execution_count": null,
   "metadata": {},
   "outputs": [],
   "source": [
    "import numpy as np\n",
    "vectors = vectors[~vectors['vector'].isnull()]\n",
    "sample = vectors.sample(n=500000)"
   ]
  },
  {
   "cell_type": "code",
   "execution_count": null,
   "metadata": {},
   "outputs": [],
   "source": [
    "def kmeans_clustering(data, n_clusters=4, random_state=42):\n",
    "    \"\"\"\n",
    "    Perform KMeans clustering on 300-dimensional data.\n",
    "    :param data: numpy array of shape (n_samples, 300)\n",
    "    :param n_clusters: Number of clusters to form.\n",
    "    :param random_state: Random state for reproducibility.\n",
    "    :return: Cluster labels and KMeans model.\n",
    "    \"\"\"\n",
    "    kmeans = KMeans(n_clusters=n_clusters, random_state=random_state)\n",
    "    labels = kmeans.fit_predict(data)\n",
    "    return labels, kmeans"
   ]
  },
  {
   "cell_type": "code",
   "execution_count": null,
   "metadata": {},
   "outputs": [],
   "source": [
    "labels, kmeans = kmeans_clustering(data=np.vstack(sample['vector']))"
   ]
  },
  {
   "cell_type": "code",
   "execution_count": null,
   "metadata": {},
   "outputs": [],
   "source": [
    "from sklearn.decomposition import PCA\n",
    "\n",
    "\n",
    "def plot_kmeans_clusters(data, labels):\n",
    "    \"\"\"\n",
    "    Visualize KMeans clusters using PCA for dimensionality reduction.\n",
    "    :param data: 300-dimensional data (n_samples, 300)\n",
    "    :param labels: Cluster labels assigned by KMeans\n",
    "    \"\"\"\n",
    "    pca = PCA(n_components=2)  # Reduce to 2D for visualization\n",
    "    reduced_data = pca.fit_transform(data)\n",
    "\n",
    "    plt.figure(figsize=(8, 6))\n",
    "    scatter = plt.scatter(reduced_data[:, 0], reduced_data[:, 1], c=labels, cmap='viridis', alpha=0.7)\n",
    "    plt.colorbar(scatter, label=\"Cluster\")\n",
    "    plt.xlabel(\"PCA Component 1\")\n",
    "    plt.ylabel(\"PCA Component 2\")\n",
    "    plt.title(\"KMeans Clustering Visualization (PCA Reduced)\")\n",
    "    plt.show()"
   ]
  },
  {
   "cell_type": "code",
   "execution_count": null,
   "metadata": {},
   "outputs": [],
   "source": [
    "kmeans"
   ]
  },
  {
   "cell_type": "code",
   "execution_count": null,
   "metadata": {},
   "outputs": [],
   "source": [
    "plot_kmeans_clusters(np.vstack(sample['vector']), labels=labels)"
   ]
  },
  {
   "cell_type": "code",
   "execution_count": null,
   "metadata": {},
   "outputs": [],
   "source": [
    "def report_cluster():\n",
    "    unique_clusters = np.unique(labels)\n",
    "    print(\"\\nKMeans Cluster Report:\")\n",
    "    for cluster in unique_clusters:\n",
    "        cluster_indices = np.where(labels == cluster)[0]\n",
    "        print(f\"Cluster {cluster}: {len(cluster_indices)} points\")"
   ]
  },
  {
   "cell_type": "code",
   "execution_count": null,
   "metadata": {},
   "outputs": [],
   "source": [
    "report_cluster()"
   ]
  }
 ],
 "metadata": {
  "kernelspec": {
   "display_name": "Python 3",
   "language": "python",
   "name": "python3"
  },
  "language_info": {
   "codemirror_mode": {
    "name": "ipython",
    "version": 3
   },
   "file_extension": ".py",
   "mimetype": "text/x-python",
   "name": "python",
   "nbconvert_exporter": "python",
   "pygments_lexer": "ipython3",
   "version": "3.11.2"
  }
 },
 "nbformat": 4,
 "nbformat_minor": 2
}
