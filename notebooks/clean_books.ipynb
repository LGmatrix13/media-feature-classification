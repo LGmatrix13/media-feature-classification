{
 "cells": [
  {
   "cell_type": "code",
   "execution_count": 76,
   "metadata": {},
   "outputs": [],
   "source": [
    "import pandas as pd"
   ]
  },
  {
   "cell_type": "code",
   "execution_count": 77,
   "metadata": {},
   "outputs": [],
   "source": [
    "metadata = pd.read_parquet(\"../data/raw/books_metadata.parquet\")"
   ]
  },
  {
   "cell_type": "code",
   "execution_count": 86,
   "metadata": {},
   "outputs": [
    {
     "data": {
      "text/plain": [
       "Index(['id', 'name', 'one_star', 'four_stars', 'total_num_ratings',\n",
       "       'publish_month', 'publish_day', 'publisher', 'counts_of_review',\n",
       "       'publish_year', 'rating', 'two_stars', 'five_stars', 'three_stars',\n",
       "       'count_of_text_reviews', 'pages', 'author_1', 'author_2',\n",
       "       'total_authors'],\n",
       "      dtype='object')"
      ]
     },
     "execution_count": 86,
     "metadata": {},
     "output_type": "execute_result"
    }
   ],
   "source": [
    "metadata.columns"
   ]
  },
  {
   "cell_type": "code",
   "execution_count": 78,
   "metadata": {},
   "outputs": [],
   "source": [
    "metadata[['author_1', 'author_2']] = metadata['authors'].str.split(\"/\", n=2, expand=True)"
   ]
  },
  {
   "cell_type": "code",
   "execution_count": 79,
   "metadata": {},
   "outputs": [],
   "source": [
    "metadata = metadata.drop(columns=[\"language\", \"authors\", 'isbn'])"
   ]
  },
  {
   "cell_type": "code",
   "execution_count": 80,
   "metadata": {},
   "outputs": [],
   "source": [
    "metadata['total_authors'] = metadata.apply(lambda row: sum(pd.notna(row[col]) for col in ['author_1', 'author_2']), axis=1)\n"
   ]
  },
  {
   "cell_type": "code",
   "execution_count": 81,
   "metadata": {},
   "outputs": [
    {
     "data": {
      "text/plain": [
       "'The Bulwer-Lytton Fiction Contest has been calling for entrants to write an opening sentence to a hypothetical horrible novel for many years. Based on the entries in this fourth installment of <i>It Was a Dark &amp; Stormy Night</i>, the depths are still to be plumbed.'"
      ]
     },
     "execution_count": 81,
     "metadata": {},
     "output_type": "execute_result"
    }
   ],
   "source": [
    "descriptions = pd.read_parquet(\"../data/raw/books_descriptions.parquet\")\n",
    "descriptions.loc[8, 'description']"
   ]
  },
  {
   "cell_type": "code",
   "execution_count": 82,
   "metadata": {},
   "outputs": [
    {
     "name": "stderr",
     "output_type": "stream",
     "text": [
      "C:\\Users\\GROSSMANLJ21\\AppData\\Local\\Temp\\ipykernel_14332\\2077610862.py:4: MarkupResemblesLocatorWarning: The input looks more like a filename than markup. You may want to open this file and pass the filehandle into Beautiful Soup.\n",
      "  return BeautifulSoup(text, \"html.parser\").get_text()\n"
     ]
    }
   ],
   "source": [
    "from bs4 import BeautifulSoup\n",
    "\n",
    "def remove_html_bs(text: str):\n",
    "    return BeautifulSoup(text, \"html.parser\").get_text()\n",
    "\n",
    "descriptions['description'] = descriptions['description'].apply(lambda row: remove_html_bs(row))"
   ]
  },
  {
   "cell_type": "code",
   "execution_count": null,
   "metadata": {},
   "outputs": [],
   "source": [
    "descriptions.to_parquet(\"../data/raw/books_descriptions.parquet\")\n",
    "metadata.to_parquet(\"../data/books_metadata.parquet\")"
   ]
  },
  {
   "cell_type": "code",
   "execution_count": null,
   "metadata": {},
   "outputs": [
    {
     "data": {
      "text/plain": [
       "True"
      ]
     },
     "execution_count": 84,
     "metadata": {},
     "output_type": "execute_result"
    }
   ],
   "source": [
    "descriptions = pd.read_parquet(\"../data/raw/books_descriptions.parquet\")\n",
    "metadata = pd.read_parquet(\"../data/raw/books_metadata.parquet\")\n"
   ]
  },
  {
   "cell_type": "code",
   "execution_count": 88,
   "metadata": {},
   "outputs": [
    {
     "data": {
      "text/plain": [
       "Index(['id', 'name', 'one_star', 'four_stars', 'total_num_ratings',\n",
       "       'publish_month', 'publish_day', 'publisher', 'counts_of_review',\n",
       "       'publish_year', 'rating', 'two_stars', 'five_stars', 'three_stars',\n",
       "       'count_of_text_reviews', 'pages', 'author_1', 'author_2',\n",
       "       'total_authors'],\n",
       "      dtype='object')"
      ]
     },
     "execution_count": 88,
     "metadata": {},
     "output_type": "execute_result"
    }
   ],
   "source": [
    "metadata.columns"
   ]
  },
  {
   "cell_type": "code",
   "execution_count": null,
   "metadata": {},
   "outputs": [],
   "source": []
  }
 ],
 "metadata": {
  "kernelspec": {
   "display_name": "Python 3",
   "language": "python",
   "name": "python3"
  },
  "language_info": {
   "codemirror_mode": {
    "name": "ipython",
    "version": 3
   },
   "file_extension": ".py",
   "mimetype": "text/x-python",
   "name": "python",
   "nbconvert_exporter": "python",
   "pygments_lexer": "ipython3",
   "version": "3.11.2"
  }
 },
 "nbformat": 4,
 "nbformat_minor": 2
}
